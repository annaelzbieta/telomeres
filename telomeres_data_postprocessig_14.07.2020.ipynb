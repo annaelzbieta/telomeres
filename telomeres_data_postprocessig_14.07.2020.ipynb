{
 "cells": [
  {
   "cell_type": "markdown",
   "metadata": {},
   "source": [
    "# Project: Telomeres Analysis (length of the telomeres)"
   ]
  },
  {
   "cell_type": "markdown",
   "metadata": {},
   "source": [
    "## 1. Import of the required modules"
   ]
  },
  {
   "cell_type": "code",
   "execution_count": 19,
   "metadata": {},
   "outputs": [],
   "source": [
    "import glob                   \n",
    "import pandas as pd\n",
    "from scipy import stats\n",
    "from scipy.stats import ttest_ind\n",
    "import seaborn as sns"
   ]
  },
  {
   "cell_type": "markdown",
   "metadata": {},
   "source": [
    "## 2. Files selection for the analysis"
   ]
  },
  {
   "cell_type": "code",
   "execution_count": 20,
   "metadata": {},
   "outputs": [
    {
     "name": "stdout",
     "output_type": "stream",
     "text": [
      "Provide the file name that you want to analyze (enter to finish):cells_Reference_\n",
      "Provide the file name that you want to analyze (enter to finish):cells_MQPS170003\n",
      "Provide the file name that you want to analyze (enter to finish):cells_MGC9orf72_\n",
      "Provide the file name that you want to analyze (enter to finish):cells_JPC9orf72\n",
      "Provide the file name that you want to analyze (enter to finish):\n"
     ]
    }
   ],
   "source": [
    "groups = []\n",
    "def provide_files():\n",
    "    \"\"\" asks user to provide the file's name for the analysis\"\"\"\n",
    "    pattern = None\n",
    "    while pattern != \"\":\n",
    "        pattern = input(\"Provide the file name that you want to analyze (enter to finish):\")\n",
    "        if pattern:\n",
    "            groups.append(glob.glob(f\"*{pattern}*\"))\n",
    "provide_files()"
   ]
  },
  {
   "cell_type": "code",
   "execution_count": 21,
   "metadata": {},
   "outputs": [
    {
     "data": {
      "text/plain": [
       "[['cells_Reference_DAPI_Telo_gH2AX_1.txt',\n",
       "  'cells_Reference_DAPI_Telo_gH2AX_10.txt',\n",
       "  'cells_Reference_DAPI_Telo_gH2AX_11.txt',\n",
       "  'cells_Reference_DAPI_Telo_gH2AX_12.txt',\n",
       "  'cells_Reference_DAPI_Telo_gH2AX_13.txt',\n",
       "  'cells_Reference_DAPI_Telo_gH2AX_14.txt',\n",
       "  'cells_Reference_DAPI_Telo_gH2AX_15.txt',\n",
       "  'cells_Reference_DAPI_Telo_gH2AX_16.txt',\n",
       "  'cells_Reference_DAPI_Telo_gH2AX_17.txt',\n",
       "  'cells_Reference_DAPI_Telo_gH2AX_18.txt',\n",
       "  'cells_Reference_DAPI_Telo_gH2AX_19.txt',\n",
       "  'cells_Reference_DAPI_Telo_gH2AX_2.txt',\n",
       "  'cells_Reference_DAPI_Telo_gH2AX_20.txt',\n",
       "  'cells_Reference_DAPI_Telo_gH2AX_3.txt',\n",
       "  'cells_Reference_DAPI_Telo_gH2AX_4.txt',\n",
       "  'cells_Reference_DAPI_Telo_gH2AX_5.txt',\n",
       "  'cells_Reference_DAPI_Telo_gH2AX_6.txt',\n",
       "  'cells_Reference_DAPI_Telo_gH2AX_7.txt',\n",
       "  'cells_Reference_DAPI_Telo_gH2AX_8.txt',\n",
       "  'cells_Reference_DAPI_Telo_gH2AX_9.txt'],\n",
       " ['cells_MQPS170003_DAPI_Telo_gH2AX_1.txt',\n",
       "  'cells_MQPS170003_DAPI_Telo_gH2AX_10.txt',\n",
       "  'cells_MQPS170003_DAPI_Telo_gH2AX_11.txt',\n",
       "  'cells_MQPS170003_DAPI_Telo_gH2AX_12.txt',\n",
       "  'cells_MQPS170003_DAPI_Telo_gH2AX_13.txt',\n",
       "  'cells_MQPS170003_DAPI_Telo_gH2AX_14.txt',\n",
       "  'cells_MQPS170003_DAPI_Telo_gH2AX_15.txt',\n",
       "  'cells_MQPS170003_DAPI_Telo_gH2AX_16.txt',\n",
       "  'cells_MQPS170003_DAPI_Telo_gH2AX_17.txt',\n",
       "  'cells_MQPS170003_DAPI_Telo_gH2AX_18.txt',\n",
       "  'cells_MQPS170003_DAPI_Telo_gH2AX_19.txt',\n",
       "  'cells_MQPS170003_DAPI_Telo_gH2AX_2.txt',\n",
       "  'cells_MQPS170003_DAPI_Telo_gH2AX_20.txt',\n",
       "  'cells_MQPS170003_DAPI_Telo_gH2AX_3.txt',\n",
       "  'cells_MQPS170003_DAPI_Telo_gH2AX_4.txt',\n",
       "  'cells_MQPS170003_DAPI_Telo_gH2AX_5.txt',\n",
       "  'cells_MQPS170003_DAPI_Telo_gH2AX_6.txt',\n",
       "  'cells_MQPS170003_DAPI_Telo_gH2AX_7.txt',\n",
       "  'cells_MQPS170003_DAPI_Telo_gH2AX_8.txt',\n",
       "  'cells_MQPS170003_DAPI_Telo_gH2AX_9.txt'],\n",
       " ['cells_MGC9orf72_DAPI_Telo_gH2AX_1.txt',\n",
       "  'cells_MGC9orf72_DAPI_Telo_gH2AX_10.txt',\n",
       "  'cells_MGC9orf72_DAPI_Telo_gH2AX_11.txt',\n",
       "  'cells_MGC9orf72_DAPI_Telo_gH2AX_12.txt',\n",
       "  'cells_MGC9orf72_DAPI_Telo_gH2AX_13.txt',\n",
       "  'cells_MGC9orf72_DAPI_Telo_gH2AX_14.txt',\n",
       "  'cells_MGC9orf72_DAPI_Telo_gH2AX_15.txt',\n",
       "  'cells_MGC9orf72_DAPI_Telo_gH2AX_16.txt',\n",
       "  'cells_MGC9orf72_DAPI_Telo_gH2AX_17.txt',\n",
       "  'cells_MGC9orf72_DAPI_Telo_gH2AX_18.txt',\n",
       "  'cells_MGC9orf72_DAPI_Telo_gH2AX_19.txt',\n",
       "  'cells_MGC9orf72_DAPI_Telo_gH2AX_2.txt',\n",
       "  'cells_MGC9orf72_DAPI_Telo_gH2AX_20.txt',\n",
       "  'cells_MGC9orf72_DAPI_Telo_gH2AX_3.txt',\n",
       "  'cells_MGC9orf72_DAPI_Telo_gH2AX_4.txt',\n",
       "  'cells_MGC9orf72_DAPI_Telo_gH2AX_5.txt',\n",
       "  'cells_MGC9orf72_DAPI_Telo_gH2AX_6.txt',\n",
       "  'cells_MGC9orf72_DAPI_Telo_gH2AX_7.txt',\n",
       "  'cells_MGC9orf72_DAPI_Telo_gH2AX_8.txt',\n",
       "  'cells_MGC9orf72_DAPI_Telo_gH2AX_9.txt'],\n",
       " ['cells_JPC9orf72_DAPI_Telo_gH2AX_10.txt',\n",
       "  'cells_JPC9orf72_DAPI_Telo_gH2AX_11.txt',\n",
       "  'cells_JPC9orf72_DAPI_Telo_gH2AX_12.txt',\n",
       "  'cells_JPC9orf72_DAPI_Telo_gH2AX_13.txt',\n",
       "  'cells_JPC9orf72_DAPI_Telo_gH2AX_14.txt',\n",
       "  'cells_JPC9orf72_DAPI_Telo_gH2AX_15.txt',\n",
       "  'cells_JPC9orf72_DAPI_Telo_gH2AX_16.txt',\n",
       "  'cells_JPC9orf72_DAPI_Telo_gH2AX_17.txt',\n",
       "  'cells_JPC9orf72_DAPI_Telo_gH2AX_18.txt',\n",
       "  'cells_JPC9orf72_DAPI_Telo_gH2AX_19.txt',\n",
       "  'cells_JPC9orf72_DAPI_Telo_gH2AX_2.txt',\n",
       "  'cells_JPC9orf72_DAPI_Telo_gH2AX_20.txt',\n",
       "  'cells_JPC9orf72_DAPI_Telo_gH2AX_3.txt',\n",
       "  'cells_JPC9orf72_DAPI_Telo_gH2AX_4.txt',\n",
       "  'cells_JPC9orf72_DAPI_Telo_gH2AX_5.txt',\n",
       "  'cells_JPC9orf72_DAPI_Telo_gH2AX_6.txt',\n",
       "  'cells_JPC9orf72_DAPI_Telo_gH2AX_7.txt',\n",
       "  'cells_JPC9orf72_DAPI_Telo_gH2AX_8.txt',\n",
       "  'cells_JPC9orf72_DAPI_Telo_gH2AX_9.txt']]"
      ]
     },
     "execution_count": 21,
     "metadata": {},
     "output_type": "execute_result"
    }
   ],
   "source": [
    "groups"
   ]
  },
  {
   "cell_type": "markdown",
   "metadata": {},
   "source": [
    "## 3. Groups generation for the analysis"
   ]
  },
  {
   "cell_type": "markdown",
   "metadata": {},
   "source": [
    "##### combines files within each group"
   ]
  },
  {
   "cell_type": "code",
   "execution_count": 23,
   "metadata": {},
   "outputs": [],
   "source": [
    "try:\n",
    "    df_combined = [pd.concat([pd.read_csv(file_name, sep=\"\\t\") for file_name in group]) for group in groups]\n",
    "except UnicodeDecodeError:\n",
    "    print (\"Error: The data frames must be equal!\")"
   ]
  },
  {
   "cell_type": "markdown",
   "metadata": {},
   "source": [
    "## 4. Preparation of the data for the analysis\n",
    "\n",
    "##### The DataProcessor (separately for each group) calculates new values based on the provided values within the columns, places them to new column, extracts requried columns, provides final mean values for unique values and finaly combines the groups in one data frame. "
   ]
  },
  {
   "cell_type": "code",
   "execution_count": 24,
   "metadata": {},
   "outputs": [],
   "source": [
    "class DataProcessor: \n",
    "    \n",
    "    def __init__(self):\n",
    "        self.df_combined_clean = []\n",
    "        self.df_AreaXIntensity = []\n",
    "        self.df_selected = []\n",
    "        self.new_dataset = []\n",
    "        self.dataset_grouped = []\n",
    "        self.dataset_grouped_combined = []\n",
    "        self.data = None\n",
    "    \n",
    "    @property\n",
    "    def data(self):\n",
    "        return self._data\n",
    "    \n",
    "    @data.setter\n",
    "    def data(self, data):\n",
    "        self._data = data\n",
    "    \n",
    "    def data_cleaning(self):\n",
    "        \"\"\"removes rows with missing values\"\"\"\n",
    "        for i in df_combined:\n",
    "            df_clean = i.dropna()\n",
    "            self.df_combined_clean.append(df_clean)\n",
    "    \n",
    "    def create_column(self):\n",
    "        \"\"\"creats new column with the calculation (area x intrnsity) based on existing values \"\"\" \n",
    "        for df in self.df_combined_clean:\n",
    "            df[\"AreaXIntensity\"] = df[\"Area\"] * df[\"Mean\"]\n",
    "            self.df_AreaXIntensity.append(df)\n",
    "            \n",
    "    def select_column(self):\n",
    "        \"\"\"selects required columns\"\"\"\n",
    "        for df_group in self.df_AreaXIntensity:\n",
    "            selected_columns = df_group.loc[:, (\"CellId\", \"AreaXIntensity\")]\n",
    "            self.df_selected.append(selected_columns)\n",
    "            \n",
    "    def rename_column(self): \n",
    "        \"\"\"renames column for final values\"\"\"\n",
    "        for df_telomeres in self.df_selected:\n",
    "            df_telomeres.rename({\"AreaXIntensity\" : \"mean_AreaXintensity\"}, axis=1, inplace=True)\n",
    "            self.new_dataset.append(df_telomeres)  \n",
    "            \n",
    "    def group_cell(self):\n",
    "        \"\"\"grupes values within the same cell and returns mean value for each cell\"\"\" \n",
    "        for df_ in self.new_dataset:\n",
    "            z = df_.groupby([\"CellId\"]).mean()\n",
    "            self.dataset_grouped.append(z)\n",
    "    \n",
    "    def combine_df(self): \n",
    "        \"\"\"combines data frame creating final single data frame\"\"\"\n",
    "        keys = []\n",
    "        for key in range(len(self.dataset_grouped)):\n",
    "            keys.append(key)\n",
    "        self.dataset_grouped_combined = pd.concat([element for element in self.dataset_grouped], keys = [*keys], \\\n",
    "                                             names=['GroupID'])\n",
    "    def reset_index(self): \n",
    "        \"\"\"removes indexes for particular df to exchange them on group ID\"\"\"    \n",
    "        self.data = self.dataset_grouped_combined.reset_index() "
   ]
  },
  {
   "cell_type": "markdown",
   "metadata": {},
   "source": [
    "## 5. Execution of the DataProcessor"
   ]
  },
  {
   "cell_type": "code",
   "execution_count": 25,
   "metadata": {},
   "outputs": [],
   "source": [
    "processed_data = DataProcessor()\n",
    "processed_data.data_cleaning()\n",
    "processed_data.create_column()\n",
    "processed_data.select_column()\n",
    "processed_data.rename_column()\n",
    "processed_data.group_cell()\n",
    "processed_data.combine_df()\n",
    "processed_data.reset_index()"
   ]
  },
  {
   "cell_type": "markdown",
   "metadata": {},
   "source": [
    "## 6. Extraction of the final data frame"
   ]
  },
  {
   "cell_type": "code",
   "execution_count": 26,
   "metadata": {},
   "outputs": [],
   "source": [
    "final_data = processed_data.data"
   ]
  },
  {
   "cell_type": "markdown",
   "metadata": {},
   "source": [
    "## 7. Final data frame"
   ]
  },
  {
   "cell_type": "code",
   "execution_count": 27,
   "metadata": {
    "scrolled": true
   },
   "outputs": [
    {
     "data": {
      "text/html": [
       "<div>\n",
       "<style scoped>\n",
       "    .dataframe tbody tr th:only-of-type {\n",
       "        vertical-align: middle;\n",
       "    }\n",
       "\n",
       "    .dataframe tbody tr th {\n",
       "        vertical-align: top;\n",
       "    }\n",
       "\n",
       "    .dataframe thead th {\n",
       "        text-align: right;\n",
       "    }\n",
       "</style>\n",
       "<table border=\"1\" class=\"dataframe\">\n",
       "  <thead>\n",
       "    <tr style=\"text-align: right;\">\n",
       "      <th></th>\n",
       "      <th>GroupID</th>\n",
       "      <th>CellId</th>\n",
       "      <th>mean_AreaXintensity</th>\n",
       "    </tr>\n",
       "  </thead>\n",
       "  <tbody>\n",
       "  </tbody>\n",
       "</table>\n",
       "</div>"
      ],
      "text/plain": [
       "Empty DataFrame\n",
       "Columns: [GroupID, CellId, mean_AreaXintensity]\n",
       "Index: []"
      ]
     },
     "execution_count": 27,
     "metadata": {},
     "output_type": "execute_result"
    }
   ],
   "source": [
    "final_data.head()"
   ]
  },
  {
   "cell_type": "markdown",
   "metadata": {},
   "source": [
    "## 8. Export to csv file"
   ]
  },
  {
   "cell_type": "code",
   "execution_count": 12,
   "metadata": {},
   "outputs": [],
   "source": [
    "final_data.to_csv(r'final_data_frame.csv')"
   ]
  },
  {
   "cell_type": "markdown",
   "metadata": {},
   "source": [
    "## 9. Statistical analysis\n",
    "#### It returns the results for t-test or One-way ANOVA and saves them to csv file"
   ]
  },
  {
   "cell_type": "code",
   "execution_count": 13,
   "metadata": {},
   "outputs": [
    {
     "name": "stdout",
     "output_type": "stream",
     "text": [
      "The result for One-way ANOVA is F=-126.0351007619037, pvalue=1.0, eta_sqrd=1.6648898043341744\n"
     ]
    }
   ],
   "source": [
    "def get_stats(df):\n",
    "    \"\"\"caluclates t-test or one-way ANOVA depending on number of the groups and saves the results to .txt file\"\"\"\n",
    "    if  df.GroupID.nunique() == 2:\n",
    "        t_data = df.groupby([\"GroupID\"])\n",
    "        group1 = t_data.get_group(0)\n",
    "        group2 = t_data.get_group(1)\n",
    "        t_test_results = ttest_ind(group1[\"mean_AreaXintensity\"], group2[\"mean_AreaXintensity\"])\n",
    "        print (f\"{t_test_results}\")\n",
    "        with open(\"stats.csv\", \"w\", newline=\"\") as csvfile:\n",
    "            csvfile.write(f\"{t_test_results}\")\n",
    "    else:\n",
    "        k = len(pd.unique(df.GroupID))\n",
    "        N = len(df.values)\n",
    "        n = df.groupby('GroupID').size()[0]\n",
    "        DFbetween = k - 1\n",
    "        DFwithin = N - k\n",
    "        DFtotal = N - 1\n",
    "        SSbetween = (sum(df.groupby('GroupID').sum()['mean_AreaXintensity']**2)/n) \\\n",
    "                    - (df['mean_AreaXintensity'].sum()**2)/N\n",
    "        sum_y_squared = sum([value**2 for value in df['mean_AreaXintensity'].values])\n",
    "        SSwithin = sum_y_squared - sum(df.groupby('GroupID').sum()['mean_AreaXintensity']**2)/n\n",
    "        SStotal = sum_y_squared - (df['mean_AreaXintensity'].sum()**2)/N\n",
    "        MSbetween = SSbetween/DFbetween\n",
    "        MSwithin = SSwithin/DFwithin\n",
    "        F = MSbetween/MSwithin\n",
    "        p = stats.f.sf(F, DFbetween, DFwithin)\n",
    "        eta_sqrd = SSbetween/SStotal\n",
    "        print (f\"The result for One-way ANOVA is F={F}, pvalue={p}, eta_sqrd={eta_sqrd}\")\n",
    "        with open(\"stats.csv\", \"w\", newline=\"\") as csvfile:\n",
    "            csvfile.write(f\"The result for One-way ANOVA is F={F}, pvalue={p}, eta_sqrd={eta_sqrd}\")\n",
    "            \n",
    "get_stats(final_data)"
   ]
  },
  {
   "cell_type": "markdown",
   "metadata": {},
   "source": [
    "## 10. Data visualisation with graphs"
   ]
  },
  {
   "cell_type": "markdown",
   "metadata": {},
   "source": [
    "##### It asks user to rename the groups and creats lists of new names, then creats dictionary with assigned new names and finaly uses the dictionary to renamed groups"
   ]
  },
  {
   "cell_type": "code",
   "execution_count": 14,
   "metadata": {},
   "outputs": [
    {
     "name": "stdout",
     "output_type": "stream",
     "text": [
      "Provide new name: control 1\n",
      "Provide new name: control 2\n",
      "Provide new name: C9orf72 1\n",
      "Provide new name: C9orf72 2\n"
     ]
    }
   ],
   "source": [
    "keys_GroupID = list(range(final_data.GroupID.nunique())) \n",
    "values_names = [] \n",
    "  \n",
    "for names in range(final_data.GroupID.nunique()): \n",
    "    names = input(\"Provide new name: \") \n",
    "    values_names.append(names)"
   ]
  },
  {
   "cell_type": "code",
   "execution_count": 15,
   "metadata": {},
   "outputs": [],
   "source": [
    "renamed = {keys_GroupID[i]: values_names[i] for i in range(len(keys_GroupID))}"
   ]
  },
  {
   "cell_type": "code",
   "execution_count": 16,
   "metadata": {},
   "outputs": [],
   "source": [
    "final_data['groups'] = final_data['GroupID'].map(renamed)"
   ]
  },
  {
   "cell_type": "code",
   "execution_count": 17,
   "metadata": {},
   "outputs": [
    {
     "data": {
      "image/png": "[encoded data removed]",
      "text/plain": [
       "<Figure size 432x288 with 1 Axes>"
      ]
     },
     "metadata": {
      "needs_background": "light"
     },
     "output_type": "display_data"
    }
   ],
   "source": [
    "def data_vis_BoxPlot(df1):\n",
    "    \"\"\"creates box plot based on final data frame with new names and saves it\"\"\"\n",
    "    boxplot_telomeres = sns.boxplot(x=df1[\"groups\"], y=df1[\"mean_AreaXintensity\"], palette=[\"lightgray\"], data=df1)\n",
    "    sns.despine(offset=0)\n",
    "    fig = boxplot_telomeres.get_figure()\n",
    "    fig.savefig(\"boxplot_telomeres.png\") \n",
    "    \n",
    "data_vis_BoxPlot(final_data)"
   ]
  },
  {
   "cell_type": "code",
   "execution_count": 18,
   "metadata": {},
   "outputs": [
    {
     "data": {
      "image/png": "[encoded data removed]",
      "text/plain": [
       "<Figure size 432x288 with 1 Axes>"
      ]
     },
     "metadata": {
      "needs_background": "light"
     },
     "output_type": "display_data"
    }
   ],
   "source": [
    "def data_vis_BarPlot(df2):\n",
    "    \"\"\"creats bar plot on final data frame\"\"\"\n",
    "    barplot_telomeres = sns.barplot(x=df2[\"groups\"], y=df2[\"mean_AreaXintensity\"], \\\n",
    "                                    palette=[\"k\", \"lightgray\"], data=df2)\n",
    "    \n",
    "data_vis_BarPlot(final_data)"
   ]
  },
  {
   "cell_type": "code",
   "execution_count": null,
   "metadata": {},
   "outputs": [],
   "source": []
  }
 ],
 "metadata": {
  "hide_input": false,
  "kernelspec": {
   "display_name": "Python 3",
   "language": "python",
   "name": "python3"
  },
  "language_info": {
   "codemirror_mode": {
    "name": "ipython",
    "version": 3
   },
   "file_extension": ".py",
   "mimetype": "text/x-python",
   "name": "python",
   "nbconvert_exporter": "python",
   "pygments_lexer": "ipython3",
   "version": "3.8.10"
  }
 },
 "nbformat": 4,
 "nbformat_minor": 4
}
